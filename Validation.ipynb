{
  "nbformat": 4,
  "nbformat_minor": 0,
  "metadata": {
    "colab": {
      "name": "Validation.ipynb",
      "provenance": [],
      "authorship_tag": "ABX9TyNJPgBG0AnpTB6iVIK1gqg5",
      "include_colab_link": true
    },
    "kernelspec": {
      "name": "python3",
      "display_name": "Python 3"
    },
    "language_info": {
      "name": "python"
    }
  },
  "cells": [
    {
      "cell_type": "markdown",
      "metadata": {
        "id": "view-in-github",
        "colab_type": "text"
      },
      "source": [
        "<a href=\"https://colab.research.google.com/github/creepersguitar/snippets/blob/main/Validation.ipynb\" target=\"_parent\"><img src=\"https://colab.research.google.com/assets/colab-badge.svg\" alt=\"Open In Colab\"/></a>"
      ]
    },
    {
      "cell_type": "code",
      "execution_count": null,
      "metadata": {
        "id": "hWKMSYXY_6TM"
      },
      "outputs": [],
      "source": [
        "def validation(password,user):\n",
        "    Found = True # this sets a flag to true\n",
        "    if len(user) > 20 and len(user) < 6: # this checks the length of the username\n",
        "        print(\"Your username must be between 6 and 20 characters long...\") # this prints if the username is not between 6 and 20\n",
        "    elif r.search ('[a-z]', user) is None: # this checks for lowercase letters\n",
        "        print(\"Make sure your username has lower case letters in it\") # this prints if the username does not have a lowercase letter\n",
        "    elif r.search ('[A-Z]', user) is None: # this checks for uppercase letters\n",
        "        print(\"make sure your username has a capital letter in it\") # this prints if uppercase letters are not present\n",
        "    print(\"         \") # this separates the username and password\n",
        "    f = open(\"validation.csv\",\"r\") # this opens a file\n",
        "    some = f.readlines() # this reads what is in the variable some which is the csv file\n",
        "    for count in some: # this says count in the variable some\n",
        "        some = count.strip().split(\",\") # this strips and splits the variable which is the csv file\n",
        "        if user == some[0] and password == some[1]: # this compares the first 2 columns within the csv file\n",
        "            print(\"Correct password\") # this prints if the values above match\n",
        "            print(\"                    \") # this spaces out the program\n",
        "            some.append(some[0] + some[1]) # this appends the rows\n",
        "            Found = False # this sets the flag to false\n",
        "        if Found == True: # this checks if the password is True\n",
        "            print(\"Incorrect username and or password...\") # this displays an error if the username or password are incorrectdef validation(password,user):"
      ]
    }
  ]
}