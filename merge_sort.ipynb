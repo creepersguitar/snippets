{
  "nbformat": 4,
  "nbformat_minor": 0,
  "metadata": {
    "colab": {
      "name": "merge sort.ipynb",
      "provenance": [],
      "authorship_tag": "ABX9TyNtb+9Wm2ndWHpBtzaMMLNb",
      "include_colab_link": true
    },
    "kernelspec": {
      "name": "python3",
      "display_name": "Python 3"
    },
    "language_info": {
      "name": "python"
    }
  },
  "cells": [
    {
      "cell_type": "markdown",
      "metadata": {
        "id": "view-in-github",
        "colab_type": "text"
      },
      "source": [
        "<a href=\"https://colab.research.google.com/github/creepersguitar/snippets/blob/main/merge_sort.ipynb\" target=\"_parent\"><img src=\"https://colab.research.google.com/assets/colab-badge.svg\" alt=\"Open In Colab\"/></a>"
      ]
    },
    {
      "cell_type": "code",
      "execution_count": null,
      "metadata": {
        "id": "9GbhjBRtpAMI"
      },
      "outputs": [],
      "source": [
        "def mergeSort(nlist):\n",
        "    print(\"Splitting :\",nlist) ###print\n",
        "    if len(nlist)>1:\n",
        "        mid = len(nlist)//2\n",
        "        lefthalf = nlist[:mid]  # omitting the first index starts the slice at the beginning of the list to mid\n",
        "        righthalf = nlist[mid:] # and omitting the second index starts the slice at mid to the end of the list:\n",
        "\n",
        "        mergeSort(lefthalf)\n",
        "        mergeSort(righthalf)\n",
        "        i=j=k=0       \n",
        "        while i < len(lefthalf) and j < len(righthalf):\n",
        "            if lefthalf[i] < righthalf[j]:\n",
        "                nlist[k]=lefthalf[i]\n",
        "                i=i+1\n",
        "            else:\n",
        "                nlist[k]=righthalf[j]\n",
        "                j=j+1\n",
        "            k=k+1\n",
        "\n",
        "        while i < len(lefthalf):\n",
        "            nlist[k]=lefthalf[i]\n",
        "            i=i+1\n",
        "            k=k+1\n",
        "\n",
        "        while j < len(righthalf):\n",
        "            nlist[k]=righthalf[j]\n",
        "            j=j+1\n",
        "            k=k+1\n",
        "    print(\"Merging :\",nlist)   ###MERGING\n",
        "#\n",
        "# MAIN \n",
        "#\n",
        "mylist = [14,46,43,27,57,41,45,21,70,99,2,52.50,32,11,35,63,13,31,14,15,54]\n",
        "mergeSort(mylist)\n",
        "print(mylist)\n"
      ]
    }
  ]
}