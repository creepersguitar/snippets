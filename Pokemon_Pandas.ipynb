{
  "nbformat": 4,
  "nbformat_minor": 0,
  "metadata": {
    "colab": {
      "name": "Pokemon_Pandas.ipynb",
      "provenance": [],
      "authorship_tag": "ABX9TyMbSort5PjgoUl2cX+HHEBR",
      "include_colab_link": true
    },
    "kernelspec": {
      "name": "python3",
      "display_name": "Python 3"
    },
    "language_info": {
      "name": "python"
    }
  },
  "cells": [
    {
      "cell_type": "markdown",
      "metadata": {
        "id": "view-in-github",
        "colab_type": "text"
      },
      "source": [
        "<a href=\"https://colab.research.google.com/github/creepersguitar/snippets/blob/main/Pokemon_Pandas.ipynb\" target=\"_parent\"><img src=\"https://colab.research.google.com/assets/colab-badge.svg\" alt=\"Open In Colab\"/></a>"
      ]
    },
    {
      "cell_type": "markdown",
      "source": [
        "poke['Total'] = poke['Attack'] + poke['Defense'] + poke['Generation'] + poke['HP']+  poke['Sp. Atk'] + poke['Sp. Def'] + poke['Speed'] = making a column called total\n",
        "poke.head(5) = prints first 5 rows with indexing = 0\n",
        "\n",
        "new_poke = poke.loc[(poke['Type 1'] == 'Grass') & (poke['Type 2'] == 'Poison') & (poke['HP'] > 70)] = example for stringing & or |"
      ],
      "metadata": {
        "id": "CcSFbPTFY0SY"
      }
    },
    {
      "cell_type": "code",
      "execution_count": null,
      "metadata": {
        "id": "1g51NCRRQrmV"
      },
      "outputs": [],
      "source": [
        "#### just need to get rid off \"#\" before each line to see what happens ####\n",
        "\n",
        "import pandas as pd\n",
        "\n",
        "poke = pd.read_csv(\"pokemon_data.csv\")                                    # reads csv file\n",
        "#excel = pd.read_excel(\"pokemon_data.xlsx\")                               # reads excel file\n",
        "#print(poke.head(5))\n",
        "#print(poke.tail(5))\n",
        "#print(poke[['Name', 'Type 1','Type 2', 'Defense']])\n",
        "#poke.columns#\n",
        "#print(poke.iloc[0:5])\n",
        "#print(poke.iloc[2,1])\n",
        "#for index,row in poke.iterrows():\n",
        "#    print(index, row)\n",
        "#poke.loc[poke['Type 1'] == \"Fire\"]\n",
        "#poke.describe()\n",
        "#poke.sort_values(['Name','HP'])\n",
        "#poke['Total'] = poke['Attack'] + poke['Defense'] + poke['Generation'] + poke['HP']+  poke['Sp. Atk'] + poke['Sp. Def'] + poke['Speed']\n",
        "#poke.head(5)\n",
        "#new_poke = poke.loc[(poke['Type 1'] == 'Grass') & (poke['Type 2'] == 'Poison') & (poke['HP'] > 70)]\n",
        "#print(new_poke)\n",
        "#poke.groupby(['Type 1']).count()"
      ]
    },
    {
      "cell_type": "markdown",
      "source": [
        "- .groupby = groups by what ever user enters within the ['']\n",
        "- .reset_index(drop=True, inplace=True) = reset database\n",
        "- you can string & and | in  .loc\n",
        "- .read_csv = reading csv files\n",
        "- .read_excel = reading excel files\n",
        "- head = top rows\n",
        "- tail = bottom rows\n",
        "- print(['Name']) = printing certain part\n",
        "- poke.columns = Description of The columns\n",
        "- print(poke[['Name','Type 1','Type 2']]) = print different columns\n",
        "- iloc[2] = prints from that row\n",
        "- iloc[2:5] = prints rows 2,3,4\n",
        "- iloc[2,1] = specific cell from row\n",
        "- for index,row in poke.iterrows(): = prints files as essay based\n",
        "-     print(index,row) = prints file as essay based\n",
        "- .loc = locate bits of data and prints it.\n",
        "- .describe = standard output\n",
        "- .sort_values([]) = sort values\n",
        "- .drop = redo dataframe\n",
        "- .to_csv (filename) index=False = turning into csv file\n",
        "- | = or\n",
        "- & = and\n",
        "- .count() = counts columns (works with groupby method)"
      ],
      "metadata": {
        "id": "MSLCex2oUCiM"
      }
    }
  ]
}