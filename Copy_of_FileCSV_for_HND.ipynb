{
  "nbformat": 4,
  "nbformat_minor": 0,
  "metadata": {
    "colab": {
      "name": "Copy of FileCSV_for_HND.ipynb",
      "provenance": [],
      "include_colab_link": true
    },
    "kernelspec": {
      "name": "python3",
      "display_name": "Python 3"
    },
    "language_info": {
      "name": "python"
    }
  },
  "cells": [
    {
      "cell_type": "markdown",
      "metadata": {
        "id": "view-in-github",
        "colab_type": "text"
      },
      "source": [
        "<a href=\"https://colab.research.google.com/github/creepersguitar/snippets/blob/main/Copy_of_FileCSV_for_HND.ipynb\" target=\"_parent\"><img src=\"https://colab.research.google.com/assets/colab-badge.svg\" alt=\"Open In Colab\"/></a>"
      ]
    },
    {
      "cell_type": "code",
      "execution_count": null,
      "metadata": {
        "id": "t15zwGZeENaj"
      },
      "outputs": [],
      "source": [
        "##########################################################################################\n",
        "# reading csv file lines in a file        in HND                                                #\n",
        "##########################################################################################\n",
        "def ReadingCSV():\n",
        "    # procedure to readfile \n",
        "    for line in open(\"demo.csv\",\"r\").readlines(): # Read the lines\n",
        "        pgm_info = line.split(',') # Split on the comma, and store the results in a list of two strings\n",
        "        # print what we are looking at\n",
        "        print(pgm_info)   \n",
        "        print(pgm_info[0])\n",
        "       #\n",
        "        print(pgm_info[1])\n",
        "        print(pgm_info[2])\n",
        "        print(pgm_info[3])\n",
        "        print(pgm_info[3].strip('\\n'))\n",
        "        #\n",
        "        #now add to list box\n",
        "#\n",
        "# main program here calls the function checkUser() with parameters\n",
        "#\n",
        "#\n",
        "#\n",
        "ReadingCSV()"
      ]
    }
  ]
}