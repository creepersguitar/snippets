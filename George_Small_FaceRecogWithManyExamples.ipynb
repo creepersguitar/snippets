{
  "nbformat": 4,
  "nbformat_minor": 0,
  "metadata": {
    "colab": {
      "name": "George Small - FaceRecogWithManyExamples",
      "provenance": [],
      "collapsed_sections": [],
      "include_colab_link": true
    },
    "kernelspec": {
      "display_name": "Python 3",
      "name": "python3"
    }
  },
  "cells": [
    {
      "cell_type": "markdown",
      "metadata": {
        "id": "view-in-github",
        "colab_type": "text"
      },
      "source": [
        "<a href=\"https://colab.research.google.com/github/creepersguitar/snippets/blob/main/George_Small_FaceRecogWithManyExamples.ipynb\" target=\"_parent\"><img src=\"https://colab.research.google.com/assets/colab-badge.svg\" alt=\"Open In Colab\"/></a>"
      ]
    },
    {
      "cell_type": "markdown",
      "metadata": {
        "id": "88m9mwDFIpcq"
      },
      "source": [
        "# Run the next cell first\n",
        "\n",
        "Move your mouse into the next cell and left click to select the cell. Then press the small run button to run the cell."
      ]
    },
    {
      "cell_type": "code",
      "metadata": {
        "id": "PPcjYS8z2t-e"
      },
      "source": [
        "# Run this first\n",
        "#!pip install cv2_imshow (image show library)\n",
        "from google.colab.patches import cv2_imshow\n",
        "import os.path\n",
        "import cv2 #computer vision \n",
        "import sys\n",
        "\n",
        "covidfileexists = os.path.isfile('sampledata/faces/haarcascade_frontalface_default.xml') \n",
        "if covidfileexists:\n",
        "  pass\n",
        "else:\n",
        "  !rm -rf sampledata\n",
        "  !git clone https://github.com/awchisholm/sampledata.git\n",
        "\n",
        "def recognise_faces(imagePath):\n",
        "  cascPath = \"sampledata/faces/haarcascade_frontalface_default.xml\"\n",
        "  faceCascade = cv2.CascadeClassifier(cascPath)\n",
        "\n",
        "  # Read the image\n",
        "  image = cv2.imread(imagePath)\n",
        "  original_image = image.copy()\n",
        "  gray = cv2.cvtColor(image, cv2.COLOR_BGR2GRAY)\n",
        "\n",
        "  # Detect faces in the image using function\n",
        "  faces = faceCascade.detectMultiScale(gray, scaleFactor = 1.1, minNeighbors = 5, minSize = (30,30))\n",
        "\n",
        "  for (x, y, w ,h) in faces:\n",
        "    cv2.rectangle(image, (x,y), (x+w, y+h), (0,255,0) , 2)\n",
        "\n",
        "  return(image, faces, original_image)"
      ],
      "execution_count": null,
      "outputs": []
    },
    {
      "cell_type": "markdown",
      "metadata": {
        "id": "KVwU39OnNPAc"
      },
      "source": [
        "# Run the next cell to see faces being recognised.\n",
        "\n",
        "The software draws green rectangles around faces it finds.\n",
        "\n",
        "You can change the image it looks at by changing the code to point to a different file. You can even upload your own images (keep them clean!)."
      ]
    },
    {
      "cell_type": "code",
      "metadata": {
        "id": "blZ7JgqPJUSZ"
      },
      "source": [
        "#imagePath = \"sampledata/faces/walloffaces.PNG\"\n",
        "imagePath = \"/content/sampledata/faces/politicians.PNG\"\n",
        "#imagePath = \"/content/sampledata/faces/BJDT.PNG\"\n",
        "#imagePath = \"/content/sampledata/faces/abba.png\"\n",
        "#imagePath = \"/content/20210208_130923.jpg\"\n",
        "\n",
        "\n",
        "image, faces, original_image = recognise_faces(imagePath=imagePath)\n",
        "\n",
        "print('Original Image')\n",
        "cv2_imshow(original_image)\n",
        "print('Image with %d faces identified'  % len(faces))\n",
        "cv2_imshow(image)"
      ],
      "execution_count": null,
      "outputs": []
    }
  ]
}