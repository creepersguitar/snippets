{
  "nbformat": 4,
  "nbformat_minor": 0,
  "metadata": {
    "colab": {
      "name": "George Small - SQLite introduction ps3",
      "provenance": [],
      "collapsed_sections": [],
      "include_colab_link": true
    },
    "kernelspec": {
      "name": "python3",
      "display_name": "Python 3"
    },
    "language_info": {
      "name": "python"
    }
  },
  "cells": [
    {
      "cell_type": "markdown",
      "metadata": {
        "id": "view-in-github",
        "colab_type": "text"
      },
      "source": [
        "<a href=\"https://colab.research.google.com/github/creepersguitar/snippets/blob/main/George_Small_SQLite_introduction_ps3.ipynb\" target=\"_parent\"><img src=\"https://colab.research.google.com/assets/colab-badge.svg\" alt=\"Open In Colab\"/></a>"
      ]
    },
    {
      "cell_type": "code",
      "execution_count": null,
      "metadata": {
        "id": "tW1b27O9Dfk7"
      },
      "outputs": [],
      "source": [
        "# Run this first to download the database\n",
        "import os.path\n",
        "if not os.path.isfile('sampledata/pandas/ps3.db'):\n",
        "  !rm -rf sampledata\n",
        "  !git clone -qq https://github.com/awchisholm/sampledata.git"
      ]
    },
    {
      "cell_type": "code",
      "source": [
        "# https://docs.python.org/3/library/sqlite3.html for more details\n",
        "\n",
        "# This imports the sqlite python library \n",
        "import sqlite3\n",
        "\n",
        "# This makes nice looking prints\n",
        "from tabulate import tabulate\n",
        "\n",
        "# This connects to the ps3 database which is a single file\n",
        "con = sqlite3.connect('sampledata/pandas/ps3.db')\n",
        "\n",
        "# This gets a cursor into the database - think of this as a pointer\n",
        "cur = con.cursor()\n",
        "\n",
        "# Some queries - we will choose one to try\n",
        "q1 = \"select * from ps3\"\n",
        "q2 = \"select * from ps3 where Year = 2006\"\n",
        "q3 = \"select Genre from ps3 where Year = 2006\"\n",
        "q4 = \"select distinct Year from ps3\"\n",
        "q5 = \"select count(distinct Year) from ps3\"\n",
        "q6 = \"select * from ps3 where Year = 2006 order by Global_Sales desc\"\n",
        "q7 = \"select * from ps3 where Year = 2011 order by Global_Sales desc\"\n",
        "q8 = \"select *, 100*EU_Sales/Global_Sales as EUPercent from ps3\"\n",
        "q9 = \"select *, 100*EU_Sales/Global_Sales as EUPercent from ps3 where Year = 2011 and Global_Sales > 1 order by Global_Sales desc\"\n",
        "q10 = \"select * from ps3 order by Global_Sales desc limit 1\"\n",
        "q11 = \"select sum(Global_Sales) as TotalSales from ps3 where Publisher like '%Activision%' and Genre = 'Shooter'\"\n",
        "q12 = \"select sum(Global_Sales) as TotalSales from ps3 where Publisher = 'Activision' and Name like '%Call of Duty%'\"\n",
        "\n",
        "# Select some data using one of the queries\n",
        "cur.execute(q9)\n",
        "\n",
        "# Fetch all the results\n",
        "rows = cur.fetchall()\n",
        "\n",
        "print(tabulate(rows))\n",
        "\n",
        "# Close the connection if we are done with it.\n",
        "con.close()"
      ],
      "metadata": {
        "id": "hxnf9b65E-Bp",
        "colab": {
          "base_uri": "https://localhost:8080/"
        },
        "outputId": "848ed571-e992-4127-a629-75a0fe365646"
      },
      "execution_count": null,
      "outputs": [
        {
          "output_type": "stream",
          "name": "stdout",
          "text": [
            "-------------------------------------------  ---  ----  ------------  --------------------------------------  ----  ----  ----  ----  -----  --------\n",
            "Call of Duty: Modern Warfare 3               PS3  2011  Shooter       Activision                              5.54  5.82  0.49  1.62  13.46  43.2392\n",
            "Battlefield 3                                PS3  2011  Shooter       Electronic Arts                         2.85  2.93  0.35  1.1    7.23  40.5256\n",
            "Uncharted 3: Drake's Deception               PS3  2011  Action        Sony Computer Entertainment             2.77  2.8   0.19  1.06   6.83  40.9956\n",
            "FIFA 12                                      PS3  2011  Sports        Electronic Arts                         0.84  4.32  0.11  1.42   6.69  64.574\n",
            "The Elder Scrolls V: Skyrim                  PS3  2011  Role-Playing  Bethesda Softworks                      2.55  2.71  0.25  1.05   6.56  41.311\n",
            "Batman: Arkham City                          PS3  2011  Action        Warner Bros. Interactive Entertainment  2.7   1.91  0.11  0.8    5.53  34.5389\n",
            "Assassin's Creed: Revelations                PS3  2011  Action        Ubisoft                                 1.41  2.02  0.1   0.72   4.24  47.6415\n",
            "LittleBigPlanet 2                            PS3  2011  Platform      Sony Computer Entertainment             1.82  1.07  0.06  0.47   3.42  31.2865\n",
            "L.A. Noire                                   PS3  2011  Adventure     Take-Two Interactive                    1.27  1.33  0.12  0.51   3.23  41.1765\n",
            "Mortal Kombat                                PS3  2011  Fighting      Warner Bros. Interactive Entertainment  1.98  0.55  0     0.32   2.85  19.2982\n",
            "Killzone 3                                   PS3  2011  Shooter       Sony Computer Entertainment             1.45  0.88  0.09  0.38   2.79  31.5412\n",
            "Final Fantasy XIII-2                         PS3  2011  Role-Playing  Square Enix                             0.78  0.75  0.89  0.26   2.68  27.9851\n",
            "Saints Row: The Third                        PS3  2011  Action        THQ                                     0.86  1.06  0.18  0.39   2.49  42.5703\n",
            "Dead Island                                  PS3  2011  Action        Deep Silver                             1.08  0.75  0.15  0.31   2.29  32.7511\n",
            "Madden NFL 12                                PS3  2011  Sports        Electronic Arts                         1.93  0.15  0     0.17   2.25   6.66667\n",
            "Pro Evolution Soccer 2012                    PS3  2011  Action        Konami Digital Entertainment            0.34  0.97  0.55  0.33   2.19  44.2922\n",
            "NBA 2K12                                     PS3  2011  Sports        Take-Two Interactive                    1.61  0.27  0.05  0.18   2.11  12.7962\n",
            "Dark Souls                                   PS3  2011  Role-Playing  Namco Bandai Games                      0.75  0.54  0.54  0.23   2.07  26.087\n",
            "Need for Speed: The Run                      PS3  2011  Action        Electronic Arts                         0.58  1.06  0.03  0.37   2.04  51.9608\n",
            "inFAMOUS 2                                   PS3  2011  Action        Sony Computer Entertainment             1.05  0.49  0.08  0.23   1.85  26.4865\n",
            "Portal 2                                     PS3  2011  Shooter       Valve                                   0.83  0.63  0.02  0.25   1.74  36.2069\n",
            "Sonic Generations                            PS3  2011  Platform      Sega                                    0.6   0.73  0.02  0.28   1.63  44.7853\n",
            "Ni no Kuni: Wrath of the White Witch         PS3  2011  Role-Playing  Namco Bandai Games                      0.6   0.51  0.21  0.23   1.55  32.9032\n",
            "Resistance 3                                 PS3  2011  Shooter       Sony Computer Entertainment             0.64  0.58  0.05  0.23   1.5   38.6667\n",
            "Mass Effect 2                                PS3  2011  Role-Playing  Electronic Arts                         0.78  0.47  0.03  0.2    1.48  31.7568\n",
            "Dead Space 2                                 PS3  2011  Shooter       Electronic Arts                         0.73  0.5   0     0.21   1.44  34.7222\n",
            "Deus Ex: Human Revolution                    PS3  2011  Shooter       Square Enix                             0.5   0.6   0.07  0.23   1.39  43.1655\n",
            "Marvel vs. Capcom 3: Fate of Two Worlds      PS3  2011  Fighting      Capcom                                  0.81  0.29  0.11  0.14   1.35  21.4815\n",
            "The ICO & Shadow of the Colossus Collection  PS3  2011  Adventure     Sony Computer Entertainment             0.67  0.37  0.13  0.17   1.35  27.4074\n",
            "Rage                                         PS3  2011  Shooter       Bethesda Softworks                      0.47  0.59  0.06  0.21   1.33  44.3609\n",
            "Crysis 2                                     PS3  2011  Action        Electronic Arts                         0.45  0.57  0.06  0.21   1.3   43.8462\n",
            "Tales of Xillia                              PS3  2011  Role-Playing  Namco Bandai Games                      0.29  0.19  0.67  0.09   1.24  15.3226\n",
            "F1 2011                                      PS3  2011  Racing        Codemasters                             0.12  0.75  0.11  0.25   1.22  61.4754\n",
            "LEGO Star Wars III: The Clone Wars           PS3  2011  Action        LucasArts                               0.52  0.49  0     0.2    1.2   40.8333\n",
            "WWE '12                                      PS3  2011  Fighting      THQ                                     0.53  0.46  0.02  0.17   1.18  38.9831\n",
            "Rocksmith                                    PS3  2011  Misc          Ubisoft                                 0.52  0.38  0.09  0.17   1.16  32.7586\n",
            "Fight Night Champion                         PS3  2011  Fighting      Electronic Arts                         0.45  0.51  0     0.19   1.15  44.3478\n",
            "Omerta: City of Gangsters                    PS3  2011  Simulation    Konami Digital Entertainment            0.52  0.46  0     0.17   1.15  40\n",
            "Ratchet & Clank: All 4 One                   PS3  2011  Platform      Sony Computer Entertainment             0.75  0.22  0.05  0.12   1.15  19.1304\n",
            "DiRT 3                                       PS3  2011  Racing        Codemasters                             0.27  0.59  0.01  0.21   1.08  54.6296\n",
            "Rayman Origins                               PS3  2011  Platform      Ubisoft                                 0.33  0.51  0.01  0.18   1.03  49.5146\n",
            "-------------------------------------------  ---  ----  ------------  --------------------------------------  ----  ----  ----  ----  -----  --------\n"
          ]
        }
      ]
    }
  ]
}