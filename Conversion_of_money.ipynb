{
  "nbformat": 4,
  "nbformat_minor": 0,
  "metadata": {
    "colab": {
      "name": "Conversion of money.ipynb",
      "provenance": [],
      "authorship_tag": "ABX9TyPUTNxhQUWVZPV6EgEPiy37",
      "include_colab_link": true
    },
    "kernelspec": {
      "name": "python3",
      "display_name": "Python 3"
    },
    "language_info": {
      "name": "python"
    }
  },
  "cells": [
    {
      "cell_type": "markdown",
      "metadata": {
        "id": "view-in-github",
        "colab_type": "text"
      },
      "source": [
        "<a href=\"https://colab.research.google.com/github/creepersguitar/snippets/blob/main/Conversion_of_money.ipynb\" target=\"_parent\"><img src=\"https://colab.research.google.com/assets/colab-badge.svg\" alt=\"Open In Colab\"/></a>"
      ]
    },
    {
      "cell_type": "code",
      "execution_count": null,
      "metadata": {
        "id": "wwIxCnYCoFyZ"
      },
      "outputs": [],
      "source": [
        "def GBP_to_USD(): # this is the title of converting from pounds to dollars\n",
        "    pounds = float(input(\"enter the amount of pounds you want to exchange now ... : £\")) # this allows the user to enter an amount of pounds to enter.\n",
        "    if pounds > 0: # if the variable pounds is greater then 0\n",
        "            dollars = pounds * 0.7108 # the variable dollars is equal to the amount entered in pounds multyplied by 0.7108\n",
        "            print(\"The amount you will recieve is\") # print the amount you will recieve\n",
        "            print(\"$ {0:.2f}\".format(dollars)) # displays the amount to 2 decimal places\n",
        "    elif pounds <= 0: # if the variable pounds is less than 0\n",
        "           print(\"The amount must be greater than 0\") # this prints the amount must be greater than 0\n",
        "           pounds = float(input(\"enter the amount of pounds you want to exchange now ... : £\")) # this allows the usr to enter an amount as a float (including decimals for pence)\n",
        "    print(\"would you like to go through another option? press y or n\") # this prints before the user can enter a choice\n",
        "    t.sleep(0.5) # this makes the program sleep for a certain length of time\n",
        "    yn = input(\"press y or n now ... : \") # this makes the user enter a letter either y or n\n",
        "    if yn != \"y\" or yn == \"n\": # if whatever the user types does not equal to y or it equals to n then\n",
        "        farewell() # it calls the def statement farewell\n",
        "    else: # otherwise\n",
        "        print(\"you will now be taken to the main menu ... : \") # it takes the user to the main menu"
      ]
    }
  ]
}