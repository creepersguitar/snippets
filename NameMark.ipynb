{
  "nbformat": 4,
  "nbformat_minor": 0,
  "metadata": {
    "colab": {
      "name": "NameMark.ipynb",
      "provenance": [],
      "authorship_tag": "ABX9TyMjbnPE2qKPbc2d52lmb1cN",
      "include_colab_link": true
    },
    "kernelspec": {
      "name": "python3",
      "display_name": "Python 3"
    },
    "language_info": {
      "name": "python"
    }
  },
  "cells": [
    {
      "cell_type": "markdown",
      "metadata": {
        "id": "view-in-github",
        "colab_type": "text"
      },
      "source": [
        "<a href=\"https://colab.research.google.com/github/creepersguitar/snippets/blob/main/NameMark.ipynb\" target=\"_parent\"><img src=\"https://colab.research.google.com/assets/colab-badge.svg\" alt=\"Open In Colab\"/></a>"
      ]
    },
    {
      "cell_type": "code",
      "execution_count": null,
      "metadata": {
        "id": "4XcIapueKI1e"
      },
      "outputs": [],
      "source": [
        "Temp1 = 0\n",
        "Temp2 = \"\"\n",
        "NumberStudents = int(input(\"Please input the number of students : \"))\n",
        "StudentMarks = []\n",
        "StudentNames = []\n",
        "for i in range(0, NumberStudents):\n",
        "    StudentName = input(\"please enter the students name : \")\n",
        "    StudentNames.append(StudentName)\n",
        "    StudentMark = input(\"Please enter the students mark : \")\n",
        "    StudentMarks.append(StudentMark)\n",
        "#\n",
        "#\n",
        "#\n",
        "print(\"Name list before the sort happens : \")\n",
        "print(StudentNames)\n",
        "print(\"Mark list before the sort happens : \")\n",
        "print(StudentMarks)\n",
        "swapped = True\n",
        "while swapped == True:\n",
        "    swapped = False\n",
        "    for i in range(0, NumberStudents - 1):\n",
        "        if StudentMarks[i] < StudentMarks[i + 1]:\n",
        "            Temp1 = StudentMarks[i + 1]\n",
        "            Temp2 = StudentNames[i+ 1]\n",
        "            StudentMarks[i + 1]  = StudentMarks[i]\n",
        "            StudentNames[i + 1] = StudentNames[i]\n",
        "            StudentMarks[i] = Temp1\n",
        "            StudentNames[i] = Temp2\n",
        "            swapped = True\n",
        "#\n",
        "#\n",
        "#\n",
        "for i in range(NumberStudents):\n",
        "    print(\"Student Name and Mark is:\", StudentNames[i], StudentMarks[i])"
      ]
    }
  ]
}