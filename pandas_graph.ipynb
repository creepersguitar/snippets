{
  "nbformat": 4,
  "nbformat_minor": 0,
  "metadata": {
    "colab": {
      "name": "pandas graph.ipynb",
      "provenance": [],
      "authorship_tag": "ABX9TyMYvK9vNCTVbzWq2ozQTsrO",
      "include_colab_link": true
    },
    "kernelspec": {
      "name": "python3",
      "display_name": "Python 3"
    },
    "language_info": {
      "name": "python"
    }
  },
  "cells": [
    {
      "cell_type": "markdown",
      "metadata": {
        "id": "view-in-github",
        "colab_type": "text"
      },
      "source": [
        "<a href=\"https://colab.research.google.com/github/creepersguitar/snippets/blob/main/pandas_graph.ipynb\" target=\"_parent\"><img src=\"https://colab.research.google.com/assets/colab-badge.svg\" alt=\"Open In Colab\"/></a>"
      ]
    },
    {
      "cell_type": "code",
      "execution_count": null,
      "metadata": {
        "id": "6C-P5c12ofGq"
      },
      "outputs": [],
      "source": [
        "def GBP_graph(): # this is displaying the conversions over time for pounds to dollars\n",
        "    dates = [] # this makes a list called dates\n",
        "    rates = [] # this makes a list called rates\n",
        "    currency = pd.read_csv('USDtoGBP.csv', parse_dates=['Date']) # this reads the csv file and passes what ever is under the collum date\n",
        "    currency['USD'] = 1/currency['GBP']\n",
        "    p.plot(currency['Date'], currency['USD']) # this plots the graph\n",
        "    p.title('GBP to USD over time') # this prints a title for the graph\n",
        "    p.xticks(rotation=90)  # this rotates the graph by 90 degrees\n",
        "    p.xlabel('Dates', fontsize=12) # this labels the x axis\n",
        "    p.ylabel('Conversion rates', fontsize = 12) # this labels the y axis\n",
        "    p.show() # this shows the graph\n",
        "    print(\"Would you like to go through another option?\") # this asks if the user wants to use another option\n",
        "    yn = input(\"please press y or n now ... : \") # this allows the user to press y or n now\n",
        "    if yn != \"y\" or yn == \"n\": # if what the user has typed does not equal to y or equal to n\n",
        "        t.sleep(1.5) # this makes the program sleep\n",
        "        farewell() # this calls the farewell function\n",
        "    else: # otherwise\n",
        "        print(\"you will now be taken to the main menu ... : \") # this makes them go back to the main menu"
      ]
    }
  ]
}