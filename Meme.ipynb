{
  "nbformat": 4,
  "nbformat_minor": 0,
  "metadata": {
    "colab": {
      "name": "George Small - MyMeme",
      "provenance": [],
      "collapsed_sections": [],
      "include_colab_link": true
    },
    "kernelspec": {
      "name": "python3",
      "display_name": "Python 3"
    },
    "language_info": {
      "name": "python"
    }
  },
  "cells": [
    {
      "cell_type": "markdown",
      "metadata": {
        "id": "view-in-github",
        "colab_type": "text"
      },
      "source": [
        "<a href=\"https://colab.research.google.com/github/creepersguitar/snippets/blob/main/Meme.ipynb\" target=\"_parent\"><img src=\"https://colab.research.google.com/assets/colab-badge.svg\" alt=\"Open In Colab\"/></a>"
      ]
    },
    {
      "cell_type": "code",
      "execution_count": null,
      "metadata": {
        "id": "ZyyQyZNhRs4j"
      },
      "outputs": [],
      "source": [
        "import random\n",
        "import requests\n",
        "from PIL import Image\n",
        "from io import BytesIO\n",
        "\n",
        "\n",
        "subject = [\"the dogs \" , \"josh \" , \"the door \" , \"the floor \" , \"andrew \" , \"fred \" , \"joel \" , \"tejay \" , \"aksel \" , \"steve \" ,\"kayleigh \",\"mina \",\"jono \" , \"jack \" , \"aiden \"]\n",
        "verb = [\"ate \" , \"sat \" , \"played \" , \"laid \" , \"sucked \" , \"plucked \" , \"fried \" , \"shot \"]\n",
        "obj = [\"on \" , \"every \" , \"onto \" , \"many \" , \"in \" , \"all \"]\n",
        "noun = [\"the sausage \" , \"face \" , \"games \" , \"toys \" , \"beach \" , \"ass \"]\n",
        "\n",
        "top = random.choice(subject) + '' + random.choice(verb)\n",
        "bottom = random.choice(obj) + '' + random.choice(noun)\n",
        "meme_url = 'https://raw.githubusercontent.com/awchisholm/snippets/main/memes.csv'\n",
        "memess = pd.read_csv(meme_url)\n",
        "meme = random.choice(memess['value'])\n",
        "url = f'http://apimeme.com/meme?meme={meme}&top={top}&bottom={bottom}'\n",
        "memes = requests.get(url)\n",
        "img = Image.open(BytesIO(memes.content))\n",
        "img"
      ]
    }
  ]
}