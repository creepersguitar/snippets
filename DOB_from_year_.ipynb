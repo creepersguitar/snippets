{
  "nbformat": 4,
  "nbformat_minor": 0,
  "metadata": {
    "colab": {
      "name": "DOB from year .ipynb",
      "provenance": [],
      "authorship_tag": "ABX9TyPp6soN+0Y2PJsw7acvvWvK",
      "include_colab_link": true
    },
    "kernelspec": {
      "name": "python3",
      "display_name": "Python 3"
    },
    "language_info": {
      "name": "python"
    }
  },
  "cells": [
    {
      "cell_type": "markdown",
      "metadata": {
        "id": "view-in-github",
        "colab_type": "text"
      },
      "source": [
        "<a href=\"https://colab.research.google.com/github/creepersguitar/snippets/blob/main/DOB_from_year_.ipynb\" target=\"_parent\"><img src=\"https://colab.research.google.com/assets/colab-badge.svg\" alt=\"Open In Colab\"/></a>"
      ]
    },
    {
      "cell_type": "code",
      "execution_count": null,
      "metadata": {
        "id": "_h9hsNbRRuyh"
      },
      "outputs": [],
      "source": [
        "import datetime\n",
        "Year_of_birth = int(input(\"Please enter the year you were born in ... : \"))\n",
        "currentYear = datetime.datetime.now().year\n",
        "age = currentYear - Year_of_birth\n",
        "print(\"Your current age is \", age)import datetime"
      ]
    }
  ]
}