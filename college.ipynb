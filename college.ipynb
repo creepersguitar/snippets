{
  "nbformat": 4,
  "nbformat_minor": 0,
  "metadata": {
    "colab": {
      "name": "college.ipynb",
      "provenance": [],
      "authorship_tag": "ABX9TyMfn+Cv5UISXjHSvIezfLec",
      "include_colab_link": true
    },
    "kernelspec": {
      "name": "python3",
      "display_name": "Python 3"
    },
    "language_info": {
      "name": "python"
    }
  },
  "cells": [
    {
      "cell_type": "markdown",
      "metadata": {
        "id": "view-in-github",
        "colab_type": "text"
      },
      "source": [
        "<a href=\"https://colab.research.google.com/github/creepersguitar/snippets/blob/main/college.ipynb\" target=\"_parent\"><img src=\"https://colab.research.google.com/assets/colab-badge.svg\" alt=\"Open In Colab\"/></a>"
      ]
    },
    {
      "cell_type": "code",
      "execution_count": null,
      "metadata": {
        "id": "gjB-Gp1S_RX7"
      },
      "outputs": [],
      "source": [
        "import sqlite3\n",
        "import os\n",
        "database = 'college.db'\n",
        "if os.path.exists(database):\n",
        "    os.remove(database)\n",
        "\n",
        "sql = '''\n",
        "BEGIN TRANSACTION;\n",
        "DROP TABLE IF EXISTS \"student\";\n",
        "CREATE TABLE IF NOT EXISTS \"student\" (\n",
        "\t\"StudentID\"\tINTEGER NOT NULL PRIMARY KEY AUTOINCREMENT,\n",
        "\t\"FirstName\"\tTEXT,\n",
        "\t\"Surname\"\tTEXT,\n",
        "\t\"TutorID\"\tINTEGER,\n",
        "\tFOREIGN KEY(\"TutorID\") REFERENCES \"tutor\"(\"TutorID\")\n",
        ");\n",
        "DROP TABLE IF EXISTS \"tutor\";\n",
        "CREATE TABLE IF NOT EXISTS \"tutor\" (\n",
        "\t\"TutorID\"\tINTEGER NOT NULL PRIMARY KEY AUTOINCREMENT,\n",
        "\t\"FirstName\"\tTEXT,\n",
        "\t\"Surname\"\tTEXT\n",
        ");\n",
        "INSERT INTO \"student\" (\"StudentID\",\"FirstName\",\"Surname\",\"TutorID\") VALUES (1,'Crystal','Chan',1),\n",
        " (2,'Josh','Tice',1),\n",
        " (3,'Tejay','Ford',1),\n",
        " (4,'Joe','Harper',3);\n",
        "INSERT INTO \"tutor\" (\"TutorID\",\"FirstName\",\"Surname\") VALUES (1,'Steve','Woods'),\n",
        " (2,'Andrew','Chisholm'),\n",
        " (3,'Nicolette','Dryden');\n",
        "COMMIT;\n",
        "'''\n",
        "update_sql = 'UPDATE tutor set FirstName = \"Felonius\", Surname=\"Gru\" where TutorId = 2'\n",
        "con = sqlite3.connect(database)\n",
        "cur = con.cursor()\n",
        "cur.executescript(sql)\n",
        "cur.executescript(update_sql)\n",
        "con.commit()\n",
        "con.close()\n"
      ]
    }
  ]
}