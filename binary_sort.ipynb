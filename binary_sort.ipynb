{
  "nbformat": 4,
  "nbformat_minor": 0,
  "metadata": {
    "colab": {
      "name": "binary sort.ipynb",
      "provenance": [],
      "authorship_tag": "ABX9TyMEs4NqxhJlbjp2vzc5KslM",
      "include_colab_link": true
    },
    "kernelspec": {
      "name": "python3",
      "display_name": "Python 3"
    },
    "language_info": {
      "name": "python"
    }
  },
  "cells": [
    {
      "cell_type": "markdown",
      "metadata": {
        "id": "view-in-github",
        "colab_type": "text"
      },
      "source": [
        "<a href=\"https://colab.research.google.com/github/creepersguitar/snippets/blob/main/binary_sort.ipynb\" target=\"_parent\"><img src=\"https://colab.research.google.com/assets/colab-badge.svg\" alt=\"Open In Colab\"/></a>"
      ]
    },
    {
      "cell_type": "code",
      "execution_count": null,
      "metadata": {
        "id": "vPh8mKV5pqIs"
      },
      "outputs": [],
      "source": [
        "# def statements\n",
        "def findmidpoint(min,max):\n",
        "    midpoint = (min + max)//2\n",
        "    print(midpoint)\n",
        "    return midpoint\n",
        "def binarysearch(list,itemtofind,min,max):\n",
        "    print(min,max)\n",
        "    midpoint = findmidpoint(min,max)\n",
        "    print(\"midpoint is... : \" + str(midpoint))\n",
        "    if list[midpoint] < itemtofind:\n",
        "        binarysearch(list,itemtofind,midpoint + 1,max)\n",
        "    elif list[midpoint] > itemtofind:\n",
        "        binarysearch(list,itemtofind,min,midpoint - 1)\n",
        "    elif list[midpoint] == itemtofind:\n",
        "        print(\"found at : \" + str(midpoint))\n",
        "        return midpoint\n",
        "    else:\n",
        "        return midpoint\n",
        "# main program\n",
        "find = 11\n",
        "list = [1,2,3,4,5,6,7,8,9,10,11,12,13,14,15]\n",
        "placefound = 0\n",
        "placefound = binarysearch(list,find,0,len(list))\n",
        "print(\"place\" + str(placefound))"
      ]
    }
  ]
}